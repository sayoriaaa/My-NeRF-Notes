{
 "cells": [
  {
   "cell_type": "markdown",
   "id": "657354d8",
   "metadata": {},
   "source": [
    "# NeRF sampling\n",
    "\n",
    "这篇note关于NeRF -> Mip NeRF 360 -> DVGO 中的采样\n",
    "\n",
    ">鼠鼠因为最近又要搞NeRF所以把之前暑假里看论文记的笔记翻出来看了看，结果发现有些地方写的实在是让鼠鼠怀疑当时的精神状态，所以参照源代码重新过了一遍论文里体渲染的流程，顺便写这个notebook方便可视化（jupyter，好耶！）\n",
    "\n",
    "假设下面是一条ray上的density分布 （图c）\n",
    "\n",
    "![s](imgs/pipeline.jpg)\n",
    "\n",
    "PS: 这里的给出函数的density分布是已经处理过归一到[0,1]上的，所以下面我们使用near=0,far=1，真实情况下的density分布也随near和far而变换"
   ]
  },
  {
   "cell_type": "code",
   "execution_count": 1,
   "id": "2566270f",
   "metadata": {},
   "outputs": [
    {
     "data": {
      "image/png": "[encoded data removed]",
      "text/plain": [
       "<Figure size 432x288 with 1 Axes>"
      ]
     },
     "metadata": {
      "needs_background": "light"
     },
     "output_type": "display_data"
    }
   ],
   "source": [
    "import numpy as np\n",
    "import matplotlib.pyplot as plt\n",
    "import torch\n",
    "N_samples = 256\n",
    "\n",
    "sigma_distr_type = 4\n",
    "\n",
    "def sigma_distr(x):\n",
    "    if sigma_distr_type == 0: #三个峰的分布函数，一个主峰\n",
    "        mu1, sigma1 = 0.2, 0.07\n",
    "        mu2, sigma2 = 0.5, 0.1\n",
    "        mu3, sigma3 = 0.8, 0.1\n",
    "\n",
    "        # 三个高斯分布的概率密度函数\n",
    "        y1 = 0.2 * (np.exp(-((x - mu1)**2) / (2 * sigma1**2)) / (sigma1 * np.sqrt(2*np.pi)))/(1/ (sigma1 * np.sqrt(2*np.pi)))\n",
    "        y2 = 0.1 * (np.exp(-((x - mu2)**2) / (2 * sigma2**2)) / (sigma2 * np.sqrt(2*np.pi)))/(1/ (sigma2 * np.sqrt(2*np.pi)))\n",
    "        y3 = 1.0 * (np.exp(-((x - mu3)**2) / (2 * sigma3**2)) / (sigma3 * np.sqrt(2*np.pi)))/(1/ (sigma3 * np.sqrt(2*np.pi)))\n",
    "\n",
    "        return y1 + y2 + y3\n",
    "    \n",
    "    elif sigma_distr_type ==1: #阶梯函数\n",
    "        if x < 0.2:\n",
    "            return 0.1\n",
    "        if x < 0.7:\n",
    "            return 1.\n",
    "        else:\n",
    "            return 0\n",
    "    elif sigma_distr_type == 2: #三个峰的分布函数，两个主峰\n",
    "        mu1, sigma1 = 0.2, 0.07\n",
    "        mu2, sigma2 = 0.5, 0.1\n",
    "        mu3, sigma3 = 0.8, 0.1\n",
    "\n",
    "        # 三个高斯分布的概率密度函数\n",
    "        y1 = 1.0 * (np.exp(-((x - mu1)**2) / (2 * sigma1**2)) / (sigma1 * np.sqrt(2*np.pi)))/(1/ (sigma1 * np.sqrt(2*np.pi)))\n",
    "        y2 = 0.1 * (np.exp(-((x - mu2)**2) / (2 * sigma2**2)) / (sigma2 * np.sqrt(2*np.pi)))/(1/ (sigma2 * np.sqrt(2*np.pi)))\n",
    "        y3 = 1.0 * (np.exp(-((x - mu3)**2) / (2 * sigma3**2)) / (sigma3 * np.sqrt(2*np.pi)))/(1/ (sigma3 * np.sqrt(2*np.pi)))\n",
    "\n",
    "        return y1 + y2 + y3\n",
    "    \n",
    "    elif sigma_distr_type == 4: #论文中的演示分布\n",
    "        if x<0.05:\n",
    "            return 0\n",
    "        elif x<0.2:\n",
    "            return 0.3\n",
    "        elif x<0.27:\n",
    "            return 0.7\n",
    "        elif x<0.4:\n",
    "            return 0\n",
    "        elif x<0.5:\n",
    "            return 0.7\n",
    "        elif x<0.6:\n",
    "            return 0\n",
    "        elif x<0.7:\n",
    "            return 0.8\n",
    "        elif x<0.9:\n",
    "            return 0.3\n",
    "        else:\n",
    "            return 0\n",
    "            \n",
    "        \n",
    "\n",
    "    \n",
    "x = np.linspace(0, 1, 64)# 对射线进行均匀采样\n",
    "\n",
    "plt.plot(x, [sigma_distr(i) for i in x])\n",
    "plt.show()\n",
    "#print(x)"
   ]
  },
  {
   "cell_type": "markdown",
   "id": "ee164311",
   "metadata": {},
   "source": [
    "## NeRF: Representing Scenes as Neural Radiance Fields for View Synthesis\n",
    "首先我们来回顾一下原始论文中的基本采样和渲染操作：\n",
    "现在我们把采样点从[0,1]线性映射到[near,far]上，并且为它增加随机抖动来避免生成一些artifacts，提高生成质量；\n",
    "这里我们增加的随机抖动不能直接在每个采样点上加随机数，因为我们必须保证增加随机抖动之后，采样点的顺序依旧是从小到大的，下面是具体的实现trick：\n",
    "1. 得到N_samples-1个区间，进而得到N_samples个区间的中点\n",
    "2. 有N_samles-1个中点的数组，在开头concat上near(在末尾concat上far)，得到N_samples个元素的lower数组(upper数组)\n",
    "\n",
    "这样操作以后，我们就相当于把N_samples个采样点对应到N_samples个区间上（第i个采样点的下界是lower[i]上界是upper[i]），这样在区间内随机采样，就可以保证采样点的顺序依旧是从小到大的\n"
   ]
  },
  {
   "cell_type": "code",
   "execution_count": 2,
   "id": "fd5bac83",
   "metadata": {},
   "outputs": [],
   "source": [
    "near = 0\n",
    "far = 1\n",
    "z = near * (1 - x) + far * x\n",
    "\n",
    "mids = .5 * (z[1:] + z[:-1])\n",
    "#upper = torch.cat([mids, z[-1:]], -1)\n",
    "upper = np.concatenate((mids, z[-1:]), -1)\n",
    "lower = np.concatenate((z[:1],mids), -1)\n",
    "\n",
    "t_rand = np.random.uniform(0, 0.5, z.shape)\n",
    "\n",
    "\n",
    "#print(\"evenly-distributed z:\",z)\n",
    "#print(\"upper:\",upper)\n",
    "#print(\"lower:\",lower)\n",
    "#print(\"t_rand:\",t_rand)\n",
    "#print(\"with-perturb z:\",lower+t_rand*(upper-lower))\n"
   ]
  },
  {
   "cell_type": "markdown",
   "id": "a87bec3b",
   "metadata": {},
   "source": [
    "可以可以，现在我们得到随机采样后的density distribution:"
   ]
  },
  {
   "cell_type": "code",
   "execution_count": 3,
   "id": "bebb6c26",
   "metadata": {},
   "outputs": [
    {
     "data": {
      "image/png": "[encoded data removed]",
      "text/plain": [
       "<Figure size 432x288 with 1 Axes>"
      ]
     },
     "metadata": {
      "needs_background": "light"
     },
     "output_type": "display_data"
    }
   ],
   "source": [
    "z_perturb = lower+t_rand*(upper-lower)\n",
    "alpha = [sigma_distr(i) for i in z_perturb]\n",
    "\n",
    "plt.plot(z, alpha)\n",
    "plt.show()"
   ]
  },
  {
   "cell_type": "markdown",
   "id": "a5f86588",
   "metadata": {},
   "source": [
    "下面是论文中对于这条ray对应颜色的计算公式：\n",
    "$$\n",
    "C(r)=\\int^{t_{f}}_{t_n}T(t)\\sigma(r(t))c(r(t),d)\\mathrm{d}t\\\\\n",
    "\\mathrm{where\\ }T(t)=e^{-\\int^{t}_{t_n}\\sigma(r(s))\\mathrm{d}s}\n",
    "$$\n",
    "\n",
    "上面的$T(t)$表示光沿射线经过介质到$t$点还剩下多少的比例，记作Transmittance\n",
    "\n",
    "其中$\\int^{t}_{t_n}\\sigma(r(s))\\mathrm{d}s$记作$\\tau$，表示optical depth\n",
    "\n",
    "这里出现的积分就是因为$\\sigma$是连续的，就像概率密度函数一样把它积出来才是有意义的值\n",
    "\n",
    "这样，这个包含$T(t)$的公式$C(r)=\\int^{t_f}_{t_n}T(t)\\sigma(r(t))c(r(t),d)\\mathrm{d}t$就很好理解了，就是每个横截面的微元到达的光强乘以这个图层的透明度作为颜色的权重再乘以对应的颜色，然后积一起就可以了\n",
    "\n",
    "更多这边部分的内容在\n",
    "\n",
    "> Real-Time Rendering 4th Chapter 14\n",
    "\n",
    "里面讨论了更多关于Volumetric Rendering的信息\n",
    "\n",
    "离散化，就是把Transmittance积分那里改成最简单的黎曼和一条一条加起来，我们有\n",
    "\n",
    "$$\n",
    "T_i=e^{-\\sum^{i-1}_{j=1}\\sigma_j(t_{j+1}-t_j)}\n",
    "$$\n",
    "\n",
    "所以下这一步，在我们的`raw2outputs`里，把这个一条ray上的density distribution转化为Transmittance\n",
    "\n"
   ]
  },
  {
   "cell_type": "code",
   "execution_count": 4,
   "id": "9ada1601",
   "metadata": {},
   "outputs": [
    {
     "name": "stdout",
     "output_type": "stream",
     "text": [
      "(63,)\n"
     ]
    },
    {
     "data": {
      "image/png": "[encoded data removed]",
      "text/plain": [
       "<Figure size 432x288 with 1 Axes>"
      ]
     },
     "metadata": {
      "needs_background": "light"
     },
     "output_type": "display_data"
    }
   ],
   "source": [
    "dists = z_perturb[1:]-z_perturb[:-1]\n",
    "print(dists.shape)\n",
    "dists = np.concatenate((dists, [1e10]), -1) #最后一段算作无穷远\n",
    "\n",
    "Transmittance = np.exp(-1 * np.cumsum(np.maximum(0, alpha) * dists))\n",
    "#Transmittance = np.cumprod(np.exp(-1 * np.maximum(0, alpha) * dists)) #一样的试了，论文里是先计算alpha再用alpha计算Transmittance\n",
    "\n",
    "\n",
    "plt.plot(z_perturb, Transmittance)\n",
    "plt.show()"
   ]
  },
  {
   "cell_type": "markdown",
   "id": "83ac9454",
   "metadata": {},
   "source": [
    "再回到我们的渲染方程上\n",
    "\n",
    "这样整成$N$个分区后，$C(r)$的积分就可以改写成求和了\n",
    "$$\n",
    "C(r)=\\sum^{n}C(r)_i=\\sum^{n}\\int^{t_{i+1}}_{t_i}T(t)\\sigma(r(t))c(r(t),d)\\mathrm{d}t\n",
    "$$\n",
    "由于radience field的连续性，采样点$t_i$对应的$\\sigma(r(t))$和$c(r(t),d)$都可以直接给出并近似为这一段的值(直接从积分里提出来)，记为$\\sigma_i,c_i$，但$T(t)$是需要我们再手动去求的，即要求两个采样点之间的Transmittance，而不是从near开始的Transmittance\n",
    "\n",
    "然后论文里通过下面的推导，来简化了整个计算过程\n",
    "\n",
    "$$\n",
    "C(r)_i=\\sigma_i c_i\\int^{t_{i+1}}_{t_i}e^{-\\int^{t}_{t_n}\\sigma(s)\\mathrm{d}s}\\mathrm{d}t\\\\\n",
    "=\\sigma_i c_i\\int^{t_{i+1}}_{t_i}\n",
    "e^{-\\int^{t_i}_{t_n}\\sigma(s)\\mathrm{d}s}\n",
    "e^{-\\int^{t}_{t_i}\\sigma(s)\\mathrm{d}s}\n",
    "\\mathrm{d}t\\\\\n",
    "=\\sigma_i c_i T_i\\int^{t_{i+1}}_{t_i}\n",
    "e^{-\\int^{t}_{t_i}\\sigma(s)\\mathrm{d}s}\n",
    "\\mathrm{d}t\\\\\n",
    "=\\sigma_i c_i T_i\\int^{t_{i+1}}_{t_i}\n",
    "e^{-({t}-{t_i})\\sigma_i}\n",
    "\\mathrm{d}t\\ 因为是平均分布\\\\\n",
    "= c_i T_i\n",
    "(1-e^{-({t_{i+1}}-{t_i})\\sigma_i})\\ 直接算积分\n",
    "$$\n",
    "\n",
    "这样，我们通过$density\\times transmittance$，就得到了ray上每个采样点的权重\n",
    "\n"
   ]
  },
  {
   "cell_type": "code",
   "execution_count": 5,
   "id": "b8fa571f",
   "metadata": {},
   "outputs": [
    {
     "data": {
      "image/png": "[encoded data removed]",
      "text/plain": [
       "<Figure size 432x288 with 1 Axes>"
      ]
     },
     "metadata": {
      "needs_background": "light"
     },
     "output_type": "display_data"
    }
   ],
   "source": [
    "alpha = 1 - np.exp(-1 * np.maximum(0, alpha) * dists)\n",
    "plt.plot(z_perturb, alpha)\n",
    "plt.show()"
   ]
  },
  {
   "cell_type": "code",
   "execution_count": 6,
   "id": "90c6cb66",
   "metadata": {},
   "outputs": [
    {
     "data": {
      "image/png": "[encoded data removed]",
      "text/plain": [
       "<Figure size 432x288 with 1 Axes>"
      ]
     },
     "metadata": {
      "needs_background": "light"
     },
     "output_type": "display_data"
    }
   ],
   "source": [
    "weight = alpha * Transmittance\n",
    "plt.plot(z_perturb, weight)\n",
    "plt.show()"
   ]
  },
  {
   "cell_type": "markdown",
   "id": "c5a3b122",
   "metadata": {},
   "source": [
    "这里因为sampling的时候加了preturb所以会抖，调小一些看出来整体上这一段的density相同但是权重是下降的（开始写的第一个分布函数跑出来的weight感觉怎么和density一样属实让鼠鼠困惑了一下，直接改成阶梯函数看上去应该是对的）"
   ]
  },
  {
   "cell_type": "markdown",
   "id": "cbac4125",
   "metadata": {},
   "source": [
    "有了上面的weights，就爽啦，点乘每个采样点的MLP预测出来的值就是最终的颜色，ray上求个数学期望就是深度图\n",
    "如上图因为有density的区域集中在0.2-0.7直接，所以其他区域按照之前的（均匀采样+随机）的方法就白采了，所以原始的这篇NeRF根据上面这个corase sampling的结果再做一次fine sampling的采样，再优化这两个，就是图形学里很常见的corase to fine的操作，这里就不展开啦\n",
    "\n",
    "上面回顾一下基础内容，下面我们来看一下mip NeRF 360对sampling的补充操作\n",
    "\n",
    ">鼠鼠选了这篇DVGO感觉要补好多论文呀\n",
    "\n",
    "# Mip-NeRF 360 sampling\n",
    "\n",
    "Motivation: 因为三维重建本身就是一个很ill的问题，所以在用NeRF做三维重建还是不可避免的出现一些artifacts，就是因为可行解多了——所以我们要加regulation! 把结果变成我们希望的样子！\n",
    "\n",
    "这篇Mip-NeRF 360主要针对的是NeRF重建带来的“floaters”和“background collapse”\n",
    "\n",
    "floater指的是重建中前景出现的一些半透明看上去像云一样的漂浮物，background collapse指的是远处的背景被建模成了半透明的情况\n",
    "\n",
    "之前的NeRF也处理了这个问题，就是之前我们去采样的时候加了噪声，然后Mip-NeRF 360说它去优化上面的这个权重更加有效率，即这个权重应该是单峰的而且峰的宽度应该尽可能小，这样比较符合物理现实\n",
    "\n",
    "所以就是变成了数学推导，把这个函数分布变成我们期望的样子\n",
    "\n",
    "定义了distortion loss:\n",
    "\n",
    "$$\n",
    "\\mathcal{L}_{loss}=\\sum_{i,j}w_iw_j|\\frac{s_i+s_{i+1}}{2}-\\frac{s_j+s_{j+1}}{2}|+\\frac{1}{3}\n",
    "\\sum_iw_i^2(s_{i+1}-s_i)\n",
    "$$\n",
    "\n",
    ">参考https://github.com/google-research/multinerf/blob/main/internal/stepfun.py\n",
    "\n",
    "首先计算第一项inter loss\n",
    "\n"
   ]
  },
  {
   "cell_type": "code",
   "execution_count": 7,
   "id": "c8a4fb29",
   "metadata": {},
   "outputs": [
    {
     "name": "stdout",
     "output_type": "stream",
     "text": [
      "1.3947489137107631\n"
     ]
    }
   ],
   "source": [
    "w = weight[:-1]\n",
    "mids = 0.5 * (z_perturb[1:]+z_perturb[:-1])\n",
    "d_mids = np.abs(mids[:,None]-mids[None,:]) #计算绝对值项\n",
    "loss_inter = np.sum(w[:,None] * np.sum(w[None, :] * d_mids)) \n",
    "print(loss_inter)"
   ]
  },
  {
   "cell_type": "markdown",
   "id": "d05554d5",
   "metadata": {},
   "source": [
    "然后计算第二项intra loss"
   ]
  },
  {
   "cell_type": "code",
   "execution_count": 8,
   "id": "9903df71",
   "metadata": {},
   "outputs": [
    {
     "name": "stdout",
     "output_type": "stream",
     "text": [
      "1.3013318134588897e-05\n"
     ]
    }
   ],
   "source": [
    "loss_intra = np.sum(w**2 * (dists[:-1]), axis=-1) / 3\n",
    "print(loss_intra)"
   ]
  },
  {
   "cell_type": "markdown",
   "id": "7e39bdc3",
   "metadata": {},
   "source": [
    "如果鼠鼠没写错的话，第二项loss小很多，主要是第一项做贡献，然后第一项里density两个峰的分布情况下的loss大于一个峰的分布情况\n",
    "\n",
    "![s](imgs/1.jpg)\n",
    "\n",
    "即第一项inter loss是橙色的箭头把分布垂直方向移动成单峰，第二项是intra loss蓝色的箭头把分布水平方向移动成单峰"
   ]
  },
  {
   "cell_type": "markdown",
   "id": "19f00797",
   "metadata": {},
   "source": [
    "为了能验证一下这个优化算法，我们先搞搭一个网络拟合这条ray上的density"
   ]
  },
  {
   "cell_type": "code",
   "execution_count": 13,
   "id": "bb70d19c",
   "metadata": {},
   "outputs": [
    {
     "name": "stdout",
     "output_type": "stream",
     "text": [
      "Epoch [1/1000], Loss: 0.2048\n",
      "Epoch [11/1000], Loss: 0.0288\n",
      "Epoch [21/1000], Loss: 0.0020\n",
      "Epoch [31/1000], Loss: 0.0019\n",
      "Epoch [41/1000], Loss: 0.0005\n",
      "Epoch [51/1000], Loss: 0.0003\n",
      "Epoch [61/1000], Loss: 0.0002\n",
      "Epoch [71/1000], Loss: 0.0000\n",
      "Epoch [81/1000], Loss: 0.0000\n",
      "Epoch [91/1000], Loss: 0.0000\n",
      "Test Loss: 0.0000\n"
     ]
    },
    {
     "data": {
      "image/png": "[encoded data removed]",
      "text/plain": [
       "<Figure size 432x288 with 1 Axes>"
      ]
     },
     "metadata": {
      "needs_background": "light"
     },
     "output_type": "display_data"
    }
   ],
   "source": [
    "import torch\n",
    "from torch.utils.data import DataLoader, TensorDataset\n",
    "import numpy as np\n",
    "\n",
    "# 定义函数\n",
    "def f(x):\n",
    "    for i in range(x.shape[0]):\n",
    "        x[i] = sigma_distr(x[i])\n",
    "    return x\n",
    "    \n",
    "\n",
    "# 生成训练数据\n",
    "x_train = torch.linspace(0, 1, 256)\n",
    "x_mark = torch.linspace(0, 1, 256) #因为训练以后x_train就变了\n",
    "y_train = torch.from_numpy(f(x_train.numpy())).float()\n",
    "\n",
    "#print(y_train)\n",
    "\n",
    "# 定义模型\n",
    "model = torch.nn.Sequential(\n",
    "    torch.nn.Linear(1, 128),\n",
    "    torch.nn.ReLU(),\n",
    "    torch.nn.Linear(128, 128),\n",
    "    torch.nn.ReLU(),\n",
    "    torch.nn.Linear(128, 1),\n",
    ")\n",
    "\n",
    "# 定义损失函数和优化器\n",
    "criterion = torch.nn.MSELoss()\n",
    "optimizer = torch.optim.Adam(model.parameters(), lr=0.001)\n",
    "\n",
    "# 训练模型\n",
    "for epoch in range(100):\n",
    "    y_pred = model(x_train.unsqueeze(1))\n",
    "    loss = criterion(y_pred.squeeze(), y_train)   \n",
    "    optimizer.zero_grad()\n",
    "    loss.backward()\n",
    "    optimizer.step()\n",
    "    if epoch % 10 == 0:\n",
    "        print('Epoch [{}/{}], Loss: {:.4f}'.format(epoch+1, 1000, loss.item()))\n",
    "\n",
    "# 生成测试数据\n",
    "test_num = 512\n",
    "x_test = torch.linspace(0, 1, test_num)\n",
    "y_test = torch.from_numpy(f(x_test.numpy())).float()\n",
    "\n",
    "# 在测试数据上评估模型\n",
    "with torch.no_grad():\n",
    "    y_pred = model(x_test.unsqueeze(1))\n",
    "    loss = criterion(y_pred.squeeze(), y_test)\n",
    "    print('Test Loss: {:.4f}'.format(loss.item()))\n",
    "    \n",
    "\n",
    "y_pred = torch.squeeze(y_pred)\n",
    "label = torch.linspace(0, 1, test_num) \n",
    "plt.plot(label, y_pred)\n",
    "plt.show()"
   ]
  },
  {
   "cell_type": "markdown",
   "id": "5c9567f2",
   "metadata": {},
   "source": [
    "ok! 看上去不错\n",
    "现在在拟合原曲线之后优化这个正则项，看看会发生什么"
   ]
  },
  {
   "cell_type": "code",
   "execution_count": 28,
   "id": "46d3e97a",
   "metadata": {},
   "outputs": [
    {
     "name": "stdout",
     "output_type": "stream",
     "text": [
      "Epoch [1/1000], Loss: 0.3152\n",
      "Epoch [11/1000], Loss: 0.0543\n",
      "Epoch [21/1000], Loss: 0.0091\n",
      "Epoch [31/1000], Loss: 0.0011\n",
      "Epoch [41/1000], Loss: 0.0008\n",
      "Epoch [51/1000], Loss: 0.0002\n",
      "Epoch [61/1000], Loss: 0.0002\n",
      "Epoch [71/1000], Loss: 0.0001\n",
      "Epoch [81/1000], Loss: 0.0000\n",
      "Epoch [91/1000], Loss: 0.0000\n",
      "loss_inter: tensor(5.4370, grad_fn=<SumBackward0>)\n",
      "Epoch [1/1000], Loss: 5.4370\n"
     ]
    },
    {
     "data": {
      "image/png": "[encoded data removed]",
      "text/plain": [
       "<Figure size 432x288 with 1 Axes>"
      ]
     },
     "metadata": {
      "needs_background": "light"
     },
     "output_type": "display_data"
    },
    {
     "name": "stdout",
     "output_type": "stream",
     "text": [
      "loss_inter: tensor(3.7452, grad_fn=<SumBackward0>)\n",
      "Epoch [2/1000], Loss: 3.7452\n"
     ]
    },
    {
     "data": {
      "image/png": "[encoded data removed]",
      "text/plain": [
       "<Figure size 432x288 with 1 Axes>"
      ]
     },
     "metadata": {
      "needs_background": "light"
     },
     "output_type": "display_data"
    },
    {
     "name": "stdout",
     "output_type": "stream",
     "text": [
      "loss_inter: tensor(nan, grad_fn=<SumBackward0>)\n"
     ]
    }
   ],
   "source": [
    "import torch\n",
    "from torch.utils.data import DataLoader, TensorDataset\n",
    "import numpy as np\n",
    "import random\n",
    "\n",
    "def setup_seed(seed):\n",
    "     torch.manual_seed(seed)\n",
    "     torch.cuda.manual_seed_all(seed)\n",
    "     np.random.seed(seed)\n",
    "     random.seed(seed)\n",
    "     torch.backends.cudnn.deterministic = True\n",
    "# 设置随机数种子\n",
    "setup_seed(2077)\n",
    "\n",
    "# 定义函数\n",
    "def f(x):\n",
    "    for i in range(x.shape[0]):\n",
    "        x[i] = sigma_distr(x[i])\n",
    "    return x\n",
    "    \n",
    "\n",
    "# 生成训练数据\n",
    "x_train = torch.linspace(0, 1, 256)\n",
    "x_mark = torch.linspace(0, 1, 256) #因为训练以后x_train就变了\n",
    "label = torch.linspace(0, 1, 256)\n",
    "y_train = torch.from_numpy(f(x_train.numpy())).float()\n",
    "\n",
    "#print(y_train)\n",
    "\n",
    "# 定义模型\n",
    "model = torch.nn.Sequential(\n",
    "    torch.nn.Linear(1, 128),\n",
    "    torch.nn.ReLU(),\n",
    "    torch.nn.Linear(128, 128),\n",
    "    torch.nn.ReLU(),\n",
    "    torch.nn.Linear(128, 1),\n",
    ")\n",
    "\n",
    "# 定义损失函数和优化器\n",
    "criterion = torch.nn.MSELoss()\n",
    "optimizer = torch.optim.Adam(model.parameters(), lr=0.001)\n",
    "reg_weight = 1\n",
    "\n",
    "# 训练模型\n",
    "for epoch in range(100):\n",
    "    y_pred = model(x_train.unsqueeze(1))\n",
    "    loss = criterion(y_pred.squeeze(), y_train)   \n",
    "    optimizer.zero_grad()\n",
    "    loss.backward()\n",
    "    optimizer.step()\n",
    "    if epoch % 10 == 0:\n",
    "        print('Epoch [{}/{}], Loss: {:.4f}'.format(epoch+1, 1000, loss.item()))\n",
    "\n",
    "# 训练模型完成，更改优化目标\n",
    "for param_group in optimizer.param_groups:\n",
    "    param_group[\"lr\"] = 0.001\n",
    "for epoch in range(50):\n",
    "    \n",
    "    y_pred = model(x_train.unsqueeze(1))\n",
    "    \n",
    "    dists = x_mark[1:]-x_mark[:-1]\n",
    "    dists = torch.cat((dists, torch.Tensor([1e10])), -1) #最后一段算作无穷远\n",
    "\n",
    "    Transmittance = torch.exp(-1 * torch.cumsum(y_pred.squeeze() * dists, -1))\n",
    "    alpha = 1 - torch.exp(-1 * torch.nn.functional.relu(y_pred.squeeze()) * dists)\n",
    "    weight = Transmittance * alpha\n",
    "    w = weight[:-1]\n",
    "    \n",
    "    mids = 0.5 * (x_mark[1:]+x_mark[:-1])\n",
    "    d_mids = torch.abs(mids[:,None]-mids[None,:]) #计算绝对值项\n",
    "\n",
    "    loss_inter = torch.sum(w[:,None] * torch.sum(w[None, :] * d_mids))\n",
    "    print(\"loss_inter:\",loss_inter)   \n",
    "    loss = reg_weight * loss_inter\n",
    "    \n",
    "    optimizer.zero_grad()\n",
    "    loss.backward()\n",
    "    optimizer.step()\n",
    "    \n",
    "    if torch.isnan(loss):\n",
    "        break\n",
    "    print('Epoch [{}/{}], Loss: {:.4f}'.format(epoch+1, 1000, loss.item()))\n",
    "    middle =  torch.nn.functional.relu(y_pred.squeeze()).detach().numpy()\n",
    "    plt.plot(label, middle) #打印density\n",
    "    #plt.plot(label, weight.detach().numpy()) #打印权重\n",
    "    plt.show()\n",
    "    \n",
    "    #print(y_pred)\n",
    "        "
   ]
  },
  {
   "cell_type": "markdown",
   "id": "ddaaf789",
   "metadata": {},
   "source": [
    "啊哈为啥跑出来是整体下降呀，固定了个seed，鼠鼠不明白"
   ]
  },
  {
   "cell_type": "markdown",
   "id": "4035ecf7",
   "metadata": {},
   "source": [
    "# DVGO sampling\n",
    "\n",
    "到了DVGO这里，它觉得"
   ]
  },
  {
   "cell_type": "code",
   "execution_count": null,
   "id": "ff89bd03",
   "metadata": {},
   "outputs": [],
   "source": []
  }
 ],
 "metadata": {
  "kernelspec": {
   "display_name": "Python 3",
   "language": "python",
   "name": "python3"
  },
  "language_info": {
   "codemirror_mode": {
    "name": "ipython",
    "version": 3
   },
   "file_extension": ".py",
   "mimetype": "text/x-python",
   "name": "python",
   "nbconvert_exporter": "python",
   "pygments_lexer": "ipython3",
   "version": "3.8.8"
  }
 },
 "nbformat": 4,
 "nbformat_minor": 5
}
